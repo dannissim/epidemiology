{
 "cells": [
  {
   "cell_type": "code",
   "execution_count": 13,
   "id": "0fece7e3-e042-4446-b691-4e08317a3feb",
   "metadata": {},
   "outputs": [],
   "source": [
    "import numpy as np\n",
    "import scipy.integrate\n",
    "from plotly import graph_objects"
   ]
  },
  {
   "cell_type": "code",
   "execution_count": 14,
   "id": "21238326-9b95-4ea0-af88-dcc28fe0af0e",
   "metadata": {},
   "outputs": [],
   "source": [
    "INITIAL_S = 10 ** 7 - 1\n",
    "INITIAL_I = 1\n",
    "INITIAL_R = 0\n",
    "GAMMA = 0.05\n",
    "BETA = 0.1\n",
    "DURATION = 365 * 2"
   ]
  },
  {
   "cell_type": "code",
   "execution_count": 15,
   "outputs": [],
   "source": [
    "def ode_model(z, t):\n",
    "    S, I, R = z\n",
    "    N = S + I + R\n",
    "    dS = -BETA * S * I / N\n",
    "    dI = (BETA * S * I / N) - (GAMMA * I)\n",
    "    dR = GAMMA * I\n",
    "    return dS, dI, dR"
   ],
   "metadata": {
    "collapsed": false
   }
  },
  {
   "cell_type": "code",
   "execution_count": 16,
   "id": "e53cdeb3-2f30-4c0a-bf6e-fad88d7db113",
   "metadata": {},
   "outputs": [],
   "source": [
    "time_span = np.arange(0, DURATION, 1)\n",
    "sol = scipy.integrate.odeint(ode_model, (INITIAL_S, INITIAL_I, INITIAL_R), time_span)\n",
    "susceptible_with_time, infected_with_time, recovered_with_time = sol[:, 0], sol[:, 1], sol[:, 2]\n",
    "fig = graph_objects.Figure()\n",
    "fig.add_trace(graph_objects.Scatter(x=time_span, y=susceptible_with_time, mode='lines+markers', name='Susceptible'))\n",
    "fig.add_trace(graph_objects.Scatter(x=time_span, y=infected_with_time, mode='lines+markers', name='Infected'))\n",
    "fig.add_trace(graph_objects.Scatter(x=time_span, y=recovered_with_time, mode='lines+markers', name='Recovered'))\n",
    "fig.update_layout(title='Simulation of SIR Model',\n",
    "                  xaxis_title='Day',\n",
    "                  yaxis_title='Count',\n",
    "                  title_x=0.5,\n",
    "                  width=900, height=600\n",
    "                  )\n",
    "fig.update_xaxes(tickangle=-90, tickformat=None, tickmode='array',\n",
    "                 tickvals=np.arange(0, DURATION + 1, 30))\n",
    "fig.write_image('./sir.png')"
   ]
  }
 ],
 "metadata": {
  "kernelspec": {
   "display_name": "Python 3 (ipykernel)",
   "language": "python",
   "name": "python3"
  },
  "language_info": {
   "codemirror_mode": {
    "name": "ipython",
    "version": 3
   },
   "file_extension": ".py",
   "mimetype": "text/x-python",
   "name": "python",
   "nbconvert_exporter": "python",
   "pygments_lexer": "ipython3",
   "version": "3.10.5"
  }
 },
 "nbformat": 4,
 "nbformat_minor": 5
}
